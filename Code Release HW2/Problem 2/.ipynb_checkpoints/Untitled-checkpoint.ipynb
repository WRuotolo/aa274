{
 "cells": [
  {
   "cell_type": "code",
   "execution_count": 45,
   "metadata": {
    "collapsed": false
   },
   "outputs": [],
   "source": [
    "import numpy as np\n",
    "from PlotFunctions import *\n",
    "import matplotlib.pyplot as plt\n",
    "\n",
    "def ImportRangeData(filename):\n",
    "\n",
    "  data = np.genfromtxt('./RangeData/'+filename, delimiter=',')\n",
    "  x_r = data[0,0]\n",
    "  y_r = data[0,1]\n",
    "  theta = data[1:,0]\n",
    "  rho = data[1:,1]\n",
    "  return (x_r, y_r, theta, rho)\n",
    "\n",
    "# parameters for line extraction (feel free to adjust these)\n",
    "MIN_SEG_LENGTH = 0.05; # minimum length of each line segment (m)\n",
    "LINE_POINT_DIST_THRESHOLD = 0.02; # max distance of pt from line to split\n",
    "MIN_POINTS_PER_SEGMENT = 4; # minimum number of points per line segment\n",
    "\n",
    "# Data files are formated as 'rangeData_<x_r>_<y_r>_N_pts.csv\n",
    "# where x_r is the robot's x position\n",
    "#       y_r is the robot's y position\n",
    "#       N_pts is the number of beams (e.g. 180 -> beams are 2deg apart)\n",
    "\n",
    "filename = 'rangeData_5_5_180.csv'\n",
    "#filename = 'rangeData_4_9_360.csv'\n",
    "#filename = 'rangeData_7_2_90.csv'\n",
    "\n",
    "#Import Range Data\n",
    "RangeData = ImportRangeData(filename)\n",
    "\n",
    "params = {'MIN_SEG_LENGTH': MIN_SEG_LENGTH,\n",
    "        'LINE_POINT_DIST_THRESHOLD': LINE_POINT_DIST_THRESHOLD,\n",
    "        'MIN_POINTS_PER_SEGMENT': MIN_POINTS_PER_SEGMENT}\n",
    "\n",
    "\n",
    "  #Extract useful variables from RangeData\n",
    "x_r = RangeData[0]\n",
    "y_r = RangeData[1]\n",
    "theta = RangeData[2]\n",
    "rho = RangeData[3]\n"
   ]
  },
  {
   "cell_type": "code",
   "execution_count": 46,
   "metadata": {
    "collapsed": false
   },
   "outputs": [
    {
     "data": {
      "text/plain": [
       "0.8062456922317992"
      ]
     },
     "execution_count": 46,
     "metadata": {},
     "output_type": "execute_result"
    }
   ],
   "source": [
    "  n = len(theta)\n",
    "  num1 = np.sum(rho**2*np.sin(2*theta)) \n",
    "  den1 = np.sum(rho**2*np.cos(2*theta)) \n",
    "\n",
    "  num2 = 0\n",
    "  den2 = 0\n",
    "  for i in range(n):\n",
    "    for j in range(n):\n",
    "      den2 += rho[i]*rho[j]*np.cos(theta[i]+theta[j])\n",
    "      num2 += rho[i]*rho[j]*np.cos(theta[i])*np.sin(theta[j])\n",
    "  den2 = -den2/n\n",
    "  num2 = -num2*2/n\n",
    "\n",
    "  alpha = 0.5*np.arctan2((num1+num2),(den1+den2))\n",
    "  alpha"
   ]
  },
  {
   "cell_type": "code",
   "execution_count": 48,
   "metadata": {
    "collapsed": false
   },
   "outputs": [
    {
     "data": {
      "text/plain": [
       "-0.28245292459861338"
      ]
     },
     "execution_count": 48,
     "metadata": {},
     "output_type": "execute_result"
    }
   ],
   "source": [
    "r = np.mean(rho*np.cos(theta-alpha))\n",
    "r"
   ]
  },
  {
   "cell_type": "code",
   "execution_count": 49,
   "metadata": {
    "collapsed": false
   },
   "outputs": [
    {
     "data": {
      "text/plain": [
       "array([ 2.98180582,  3.08175058,  3.99776403,  4.12366776,  2.54401281,\n",
       "        2.32613905,  2.39578296,  2.46069173,  2.53444377,  2.6000492 ,\n",
       "        2.66389447,  2.74436909,  2.81675402,  2.89540826,  2.96924711,\n",
       "        5.82225624,  5.01385498,  4.9258597 ,  4.84319726,  4.76194858,\n",
       "        4.68966889,  4.62828206,  4.55531617,  4.48782868,  4.41949772,\n",
       "        4.36692831,  4.29655877,  4.24439999,  4.18214267,  4.12833814,\n",
       "        4.06920195,  4.00921832,  3.9571904 ,  4.07785783,  5.30133029,\n",
       "        5.15483741,  3.94376423,  3.79387631,  3.69083698,  3.61255412,\n",
       "        3.57684673,  3.58650668,  4.2534818 ,  4.13065237,  4.01797499,\n",
       "        3.88794871,  3.77324118,  3.64321901,  3.52569852,  3.40320572,\n",
       "        1.98359547,  1.63386192,  1.37885841,  1.32784441,  1.27629686,\n",
       "        1.21854307,  1.16423376,  1.11137852,  1.05146887,  0.99140784,\n",
       "        0.92558205,  0.85824354,  0.79179153,  0.71972475,  0.69543395,\n",
       "        0.58935575,  0.4878961 ,  0.38954278,  0.2920496 ,  0.19397903,\n",
       "        0.09377147,  0.01097207,  0.05315891,  0.1291509 ,  0.19934592,\n",
       "        0.26821668,  0.33496124,  0.39809193,  0.4551491 ,  0.52156304,\n",
       "        0.57828362,  0.63448093,  0.68796837,  0.7450308 ,  0.98226968,\n",
       "        1.32039506,  2.67311083,  2.80102177,  2.92405048,  3.05255392,\n",
       "        3.17905274,  3.30423131,  3.42335606,  3.56009577,  3.68723068,\n",
       "        3.8167952 ,  3.94345167,  4.08143909,  4.21156395,  4.34686394,\n",
       "        4.48787569,  4.6423742 ,  4.78231696,  4.93504427,  5.10114115,\n",
       "        5.25611379,  5.4321819 ,  5.61118867,  5.79632761,  6.00259838,\n",
       "        6.20731594,  6.43150041,  2.45243593,  2.45673088,  6.44679405,\n",
       "        5.57159413,  5.39744349,  5.2280905 ,  3.17635599,  4.91335058,\n",
       "        4.75799091,  4.61269308,  4.48623987,  4.34992341,  4.67522443,\n",
       "        4.59073921,  4.45037022,  4.31934526,  4.19421178,  3.63135896,\n",
       "        3.51703266,  3.39950259,  3.29185563,  3.1808516 ,  3.07542496,\n",
       "        2.96787585,  2.85174599,  2.74642329,  2.63858543,  1.55947215,\n",
       "        1.45711706,  0.83238421,  0.76188283,  0.72017269,  2.20629558,\n",
       "        2.06771266,  1.92427849,  1.78564992,  1.63956529,  1.38105295,\n",
       "        1.11067007,  0.87370479,  0.71160231,  0.57196582,  0.42298589,\n",
       "        0.26698845,  0.14497243,  0.06171845,  0.26255487,  0.44737325,\n",
       "        0.62041278,  0.78358522,  0.93795465,  1.08418279,  1.22296355,\n",
       "        1.35743146,  1.48370165,  1.61057931,  1.72793844,  1.84813247,\n",
       "        1.95673164,  2.0666814 ,  2.17383294,  2.28515984,  2.38496742,\n",
       "        2.48168442,  2.58282783,  2.68968368,  2.78616735,  2.88607147])"
      ]
     },
     "execution_count": 49,
     "metadata": {},
     "output_type": "execute_result"
    }
   ],
   "source": [
    "dist = np.absolute(rho*np.cos(theta-alpha)-r)\n",
    "dist"
   ]
  },
  {
   "cell_type": "code",
   "execution_count": 51,
   "metadata": {
    "collapsed": false
   },
   "outputs": [
    {
     "data": {
      "image/png": "[encoded data removed]",
      "text/plain": [
       "<matplotlib.figure.Figure at 0x7fa7bd2ec2d0>"
      ]
     },
     "metadata": {},
     "output_type": "display_data"
    }
   ],
   "source": [
    "plt.plot(dist)\n",
    "plt.show()"
   ]
  },
  {
   "cell_type": "code",
   "execution_count": 83,
   "metadata": {
    "collapsed": true
   },
   "outputs": [],
   "source": [
    "def FitLine(theta, rho):\n",
    "\n",
    "  n = len(theta)\n",
    "\n",
    "  num1 = np.sum(rho**2*np.sin(2*theta)) \n",
    "  den1 = np.sum(rho**2*np.cos(2*theta)) \n",
    "\n",
    "  num2 = 0\n",
    "  den2 = 0\n",
    "  for i in range(n):\n",
    "    for j in range(n):\n",
    "      den2 += rho[i]*rho[j]*np.cos(theta[i]+theta[j])\n",
    "      num2 += rho[i]*rho[j]*np.cos(theta[i])*np.sin(theta[j])\n",
    "  den2 = -den2/n\n",
    "  num2 = -num2*2/n\n",
    "\n",
    "  alpha = 0.5*np.arctan2((num1+num2),(den1+den2)) + np.pi/2\n",
    "  r = np.mean(rho*np.cos(theta-alpha))\n",
    "\n",
    "  # If r is <0, make line equation have positive r and be sure to offset alpha by pi\n",
    "  if r<0:\n",
    "    r = -r\n",
    "    alpha = alpha+np.pi \n",
    "    # Wrap alpha to -pi < alpha < pi\n",
    "    if alpha>np.pi:\n",
    "      alpha = alpha - 2*np.pi\n",
    "\n",
    "  return alpha, r"
   ]
  },
  {
   "cell_type": "code",
   "execution_count": 84,
   "metadata": {
    "collapsed": false
   },
   "outputs": [],
   "source": [
    "def FindSplit(theta, rho, alpha, r, params):\n",
    "\n",
    "  ##### TO DO #####\n",
    "  # Implement a function to find the split index (if one exists)\n",
    "  # It should compute the distance of each point to the line.\n",
    "  # The index to split at is the one with the maximum distance\n",
    "  # value that exceeds 'LINE_POINT_DIST_THRESHOLD', and also does\n",
    "  # not divide into segments smaller than 'MIN_POINTS_PER_SEGMENT'\n",
    "  # return -1 if no split is possiple\n",
    "  #################\n",
    "\n",
    "  # If array is too short to possibly have a split point, just return -1\n",
    "  if len(theta) < 2*params['MIN_POINTS_PER_SEGMENT']:\n",
    "    return -1\n",
    "\n",
    "  # Get possible points to split at (at distance MIN_POINTS_PER_SEGMENT from edge of array)\n",
    "  dist = np.absolute(rho*np.cos(theta-alpha)-r)\n",
    "  dist_zeroed = dist\n",
    "  dist_zeroed[0:params['MIN_POINTS_PER_SEGMENT']] = 0\n",
    "  dist_zeroed[len(dist)-params['MIN_POINTS_PER_SEGMENT']:len(dist)]= 0\n",
    "\n",
    "  #dist[params['MIN_POINTS_PER_SEGMENT']:(len(theta)-params['MIN_POINTS_PER_SEGMENT'])]\n",
    "  splitIdx = np.argmax(dist_zeroed)\n",
    "\n",
    "  # Check if this max value satisfies the requirement of being greater than LINE_POINT_DIST_THRESHOLD\n",
    "  if dist[splitIdx] < params['LINE_POINT_DIST_THRESHOLD']:\n",
    "    return -1\n",
    "\n",
    "  return splitIdx"
   ]
  },
  {
   "cell_type": "code",
   "execution_count": 85,
   "metadata": {
    "collapsed": false
   },
   "outputs": [],
   "source": [
    "  params = {'MIN_SEG_LENGTH': MIN_SEG_LENGTH,\n",
    "            'LINE_POINT_DIST_THRESHOLD': LINE_POINT_DIST_THRESHOLD,\n",
    "            'MIN_POINTS_PER_SEGMENT': MIN_POINTS_PER_SEGMENT}"
   ]
  },
  {
   "cell_type": "code",
   "execution_count": 86,
   "metadata": {
    "collapsed": false
   },
   "outputs": [
    {
     "data": {
      "text/plain": [
       "114"
      ]
     },
     "execution_count": 86,
     "metadata": {},
     "output_type": "execute_result"
    }
   ],
   "source": [
    "FindSplit(theta,rho,alpha,r,params)"
   ]
  },
  {
   "cell_type": "code",
   "execution_count": 130,
   "metadata": {
    "collapsed": false
   },
   "outputs": [],
   "source": [
    "def SplitLinesRecursive(theta, rho, startIdx, endIdx, params):\n",
    "\n",
    "  ##### TO DO #####\n",
    "  # Implement a recursive line splitting function\n",
    "  # It should call 'FitLine()' to fit individual line segments\n",
    "  # In should call 'FindSplit()' to find an index to split at\n",
    "  #################\n",
    "  alpha, r = FitLine(theta[startIdx:endIdx], rho[startIdx:endIdx])\n",
    "\n",
    "  # Index to split at is referenced from startIdx. splitIdx = FindSplit + startIdx\n",
    "  splitIdx = FindSplit(theta[startIdx:endIdx], rho[startIdx:endIdx], alpha, r, params) + startIdx\n",
    "\n",
    "  # Check whether we've found the last possible split\n",
    "  if FindSplit(theta[startIdx:endIdx], rho[startIdx:endIdx], alpha, r, params) == -1:\n",
    "    return alpha, r, [startIdx, endIdx]\n",
    "\n",
    "  # Attempt to continue splitting the lines\n",
    "  alpha_1, r_1, idx_1 = SplitLinesRecursive(theta, rho, startIdx, splitIdx, params)\n",
    "  alpha_2, r_2, idx_2 = SplitLinesRecursive(theta, rho, splitIdx, endIdx, params)\n",
    "    \n",
    "  print alpha_1\n",
    "  print alpha_2\n",
    "  print r_1\n",
    "  print r_2\n",
    "\n",
    "  alpha = np.concatenate((np.array(alpha_1),np.array(alpha_2)))\n",
    "  r = np.concatenate((np.array(r_1),np.array(r_2)))\n",
    "  idx = np.row_stack((idx_1,idx_2))\n",
    "\n",
    "  return alpha, r, idx"
   ]
  },
  {
   "cell_type": "code",
   "execution_count": 132,
   "metadata": {
    "collapsed": false
   },
   "outputs": [
    {
     "data": {
      "text/plain": [
       "array(1)"
      ]
     },
     "execution_count": 132,
     "metadata": {},
     "output_type": "execute_result"
    }
   ],
   "source": [
    "  ### Split Lines ###\n",
    "  N_pts = len(rho)\n",
    "  startIdx = 0;\n",
    "  endIdx = N_pts\n",
    "  alpha, r, pointIdx = SplitLinesRecursive(theta, rho, startIdx, endIdx, params)\n",
    "\n",
    " "
   ]
  },
  {
   "cell_type": "code",
   "execution_count": 126,
   "metadata": {
    "collapsed": false
   },
   "outputs": [
    {
     "data": {
      "text/plain": [
       "2"
      ]
     },
     "execution_count": 126,
     "metadata": {},
     "output_type": "execute_result"
    }
   ],
   "source": [
    "len(r)"
   ]
  },
  {
   "cell_type": "code",
   "execution_count": 113,
   "metadata": {
    "collapsed": false
   },
   "outputs": [
    {
     "data": {
      "text/plain": [
       "(25, 2)"
      ]
     },
     "execution_count": 113,
     "metadata": {},
     "output_type": "execute_result"
    }
   ],
   "source": [
    "pointIdx.shape"
   ]
  },
  {
   "cell_type": "code",
   "execution_count": 119,
   "metadata": {
    "collapsed": false
   },
   "outputs": [
    {
     "data": {
      "text/plain": [
       "array([[  0,   5],\n",
       "       [  5,  15],\n",
       "       [ 15,  19],\n",
       "       [ 19,  29],\n",
       "       [ 29,  34],\n",
       "       [ 34,  39],\n",
       "       [ 39,  43],\n",
       "       [ 43,  49],\n",
       "       [ 49,  53],\n",
       "       [ 53,  64],\n",
       "       [ 64,  71],\n",
       "       [ 71,  75],\n",
       "       [ 75,  81],\n",
       "       [ 81,  86],\n",
       "       [ 86, 109],\n",
       "       [109, 114],\n",
       "       [114, 118],\n",
       "       [118, 125],\n",
       "       [125, 129],\n",
       "       [129, 138],\n",
       "       [138, 143],\n",
       "       [143, 148],\n",
       "       [148, 156],\n",
       "       [156, 160],\n",
       "       [160, 180]])"
      ]
     },
     "execution_count": 119,
     "metadata": {},
     "output_type": "execute_result"
    }
   ],
   "source": [
    "pointIdx"
   ]
  },
  {
   "cell_type": "code",
   "execution_count": null,
   "metadata": {
    "collapsed": true
   },
   "outputs": [],
   "source": []
  }
 ],
 "metadata": {
  "kernelspec": {
   "display_name": "Python 2",
   "language": "python",
   "name": "python2"
  },
  "language_info": {
   "codemirror_mode": {
    "name": "ipython",
    "version": 2
   },
   "file_extension": ".py",
   "mimetype": "text/x-python",
   "name": "python",
   "nbconvert_exporter": "python",
   "pygments_lexer": "ipython2",
   "version": "2.7.12"
  }
 },
 "nbformat": 4,
 "nbformat_minor": 2
}
